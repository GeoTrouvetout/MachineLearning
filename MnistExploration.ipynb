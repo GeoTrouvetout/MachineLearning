{
 "cells": [
  {
   "cell_type": "code",
   "execution_count": 2,
   "metadata": {
    "collapsed": false,
    "deletable": true,
    "editable": true
   },
   "outputs": [
    {
     "name": "stderr",
     "output_type": "stream",
     "text": [
      "Using gpu device 0: Tesla P100-PCIE-16GB (CNMeM is disabled, cuDNN 5105)\n"
     ]
    }
   ],
   "source": [
    "import sys, getopt\n",
    "\n",
    "import argparse\n",
    "\n",
    "import sys\n",
    "import os\n",
    "import time\n",
    "\n",
    "import numpy as np\n",
    "\n",
    "import pandas as pd\n",
    "\n",
    "import matplotlib.pyplot as plt\n",
    "import matplotlib.image as mpimg\n",
    "import matplotlib.pyplot  as pyplot\n",
    "import gzip\n",
    "\n",
    "import theano\n",
    "import theano.tensor as T\n",
    "\n",
    "import lasagne\n",
    "import nolearn"
   ]
  },
  {
   "cell_type": "code",
   "execution_count": 3,
   "metadata": {
    "collapsed": true,
    "deletable": true,
    "editable": true
   },
   "outputs": [],
   "source": [
    "def load_dataset_mnist():\n",
    "\t# We first define a download function, supporting both Python 2 and 3.\n",
    "\tif sys.version_info[0] == 2:\n",
    "\t\tfrom urllib import urlretrieve\n",
    "\telse:\n",
    "\t\tfrom urllib.request import urlretrieve\n",
    "\n",
    "\tdef download(filename, source='http://yann.lecun.com/exdb/mnist/'):\n",
    "\t\tprint(\"Downloading %s\" % filename)\n",
    "\t\turlretrieve(source + filename, filename)\n",
    "\n",
    "\t# We then define functions for loading MNIST images and labels.\n",
    "\t# For convenience, they also download the requested files if needed.\n",
    "\timport gzip\n",
    "\n",
    "\tdef load_mnist_images(filename):\n",
    "\t\tif not os.path.exists(filename):\n",
    "\t\t\tdownload(filename)\n",
    "\t\t# Read the inputs in Yann LeCun's binary format.\n",
    "\t\twith gzip.open(filename, 'rb') as f:\n",
    "\t\t\tdata = np.frombuffer(f.read(), np.uint8, offset=16)\n",
    "\t\t# The inputs are vectors now, we reshape them to monochrome 2D images,\n",
    "\t\t# following the shape convention: (examples, channels, rows, columns)\n",
    "\t\tdata = data.reshape(-1, 1, 28, 28)\n",
    "\t\t# The inputs come as bytes, we convert them to float32 in range [0,1].\n",
    "\t\t# (Actually to range [0, 255/256], for compatibility to the version\n",
    "\t\t# provided at http://deeplearning.net/data/mnist/mnist.pkl.gz.)\n",
    "\t\treturn (data / np.float32(256))\n",
    "# \t\treturn 1-(2*(data / np.float32(256)))\n",
    "\n",
    "\tdef load_mnist_labels(filename):\n",
    "\t\tif not os.path.exists(filename):\n",
    "\t\t\tdownload(filename)\n",
    "\t\t# Read the labels in Yann LeCun's binary format.\n",
    "\t\twith gzip.open(filename, 'rb') as f:\n",
    "\t\t\tdata = np.frombuffer(f.read(), np.uint8, offset=8)\n",
    "\t\t# The labels are vectors of integers now, that's exactly what we want.\n",
    "\t\treturn data\n",
    "\n",
    "\t# We can now download and read the training and test set images and labels.\n",
    "\tX_train = load_mnist_images('train-images-idx3-ubyte.gz')\n",
    "\ty_train = load_mnist_labels('train-labels-idx1-ubyte.gz')\n",
    "\tX_test = load_mnist_images('t10k-images-idx3-ubyte.gz')\n",
    "\ty_test = load_mnist_labels('t10k-labels-idx1-ubyte.gz')\n",
    "\n",
    "\t# We reserve the last 10000 training examples for validation.\n",
    "# \tX_train, X_val = X_train[:-10000], X_train[-10000:]\n",
    "# \ty_train, y_val = y_train[:-10000], y_train[-10000:]\n",
    "\t\n",
    "\t\n",
    "\t# We just return all the arrays in order, as expected in main().\n",
    "\t# (It doesn't matter how we do this as long as we can read them again.)\n",
    "\treturn X_train, y_train, X_test, y_test"
   ]
  },
  {
   "cell_type": "code",
   "execution_count": 4,
   "metadata": {
    "collapsed": true,
    "deletable": true,
    "editable": true
   },
   "outputs": [],
   "source": [
    "def build_cnn(input_var=None):\n",
    "\tl_in = lasagne.layers.InputLayer(shape=(None, 1, 28, 28), input_var=input_var)\n",
    "\t# print(lasagne.layers.get_output_shape(l_in))\n",
    "\tl_c1 = lasagne.layers.Conv2DLayer(l_in, num_filters=16, filter_size=(5,5), nonlinearity=lasagne.nonlinearities.rectify, W=lasagne.init.GlorotNormal() )\n",
    "\tl_c1p = lasagne.layers.MaxPool2DLayer(l_c1, pool_size=(2,2) )\n",
    "\tl_c2 = lasagne.layers.Conv2DLayer( l_c1p, num_filters=16, filter_size=(5,5), nonlinearity=lasagne.nonlinearities.rectify , W=lasagne.init.GlorotNormal() )\n",
    "\tl_c2p = lasagne.layers.MaxPool2DLayer(l_c2, pool_size=(2,2) )\n",
    "\t# l_cclass = lasagne.layers.FlattenLayer(l_cclass, outdim=2, )\n",
    "\tl_outclass = lasagne.layers.DenseLayer(lasagne.layers.dropout(l_c2p, p=0.5), num_units=10, nonlinearity=lasagne.nonlinearities.softmax)\n",
    "\t\n",
    "\t# print(\"output class:\", lasagne.layers.get_output_shape(l_cclass))\n",
    "\t\n",
    "\t# print(\"output reconstruction:\",lasagne.layers.get_output_shape(l_out))\n",
    "\treturn l_outclass"
   ]
  },
  {
   "cell_type": "code",
   "execution_count": 5,
   "metadata": {
    "collapsed": true,
    "deletable": true,
    "editable": true
   },
   "outputs": [],
   "source": [
    "def iterate_minibatches(inputs, targets, batchsize, shuffle=False):\n",
    "\tassert len(inputs) == len(targets)\n",
    "\tif shuffle:\n",
    "\t\tindices = np.arange(len(inputs))\n",
    "\t\tnp.random.shuffle(indices)\n",
    "\tfor start_idx in range(0, len(inputs) - batchsize + 1, batchsize):\n",
    "\t\tif shuffle:\n",
    "\t\t\texcerpt = indices[start_idx:start_idx + batchsize]\n",
    "\t\telse:\n",
    "\t\t\texcerpt = slice(start_idx, start_idx + batchsize)\n",
    "\t\tyield inputs[excerpt], targets[excerpt]\n"
   ]
  },
  {
   "cell_type": "code",
   "execution_count": 6,
   "metadata": {
    "collapsed": false,
    "deletable": true,
    "editable": true
   },
   "outputs": [],
   "source": [
    "X_train, y_train, X_test, y_test = load_dataset_mnist()"
   ]
  },
  {
   "cell_type": "code",
   "execution_count": 7,
   "metadata": {
    "collapsed": true,
    "deletable": true,
    "editable": true
   },
   "outputs": [],
   "source": [
    "Y_train = np.repeat(y_train,28*28).reshape((len(y_train), 1, 28, 28))\n",
    "Y_test = np.repeat(y_test,28*28).reshape((len(y_test), 1, 28, 28))"
   ]
  },
  {
   "cell_type": "code",
   "execution_count": 8,
   "metadata": {
    "collapsed": false,
    "deletable": true,
    "editable": true,
    "scrolled": true
   },
   "outputs": [
    {
     "data": {
      "image/png": "[encoded data removed]",
      "text/plain": [
       "<matplotlib.figure.Figure at 0x7f1218f5d358>"
      ]
     },
     "metadata": {},
     "output_type": "display_data"
    }
   ],
   "source": [
    "plt.imshow(X_train[np.random.randint(0, len(X_train)), 0, :,:])\n",
    "plt.gray()\n",
    "plt.show()"
   ]
  },
  {
   "cell_type": "code",
   "execution_count": 9,
   "metadata": {
    "collapsed": false,
    "deletable": true,
    "editable": true
   },
   "outputs": [
    {
     "name": "stdout",
     "output_type": "stream",
     "text": [
      "Set network\n"
     ]
    }
   ],
   "source": [
    "num_epochs=1\n",
    "prop_valid=20\n",
    "size_minibatch = 100 \n",
    "\n",
    "print(\"Set network\")\n",
    "input_var = T.tensor4('inputs')\n",
    "target_var = T.tensor4('targets')\n",
    "class_var = T.ivector('classes')\n",
    "seg_var = T.tensor4('segmentations')\n",
    "network_cnn = build_cnn(input_var)\n"
   ]
  },
  {
   "cell_type": "code",
   "execution_count": 10,
   "metadata": {
    "collapsed": true,
    "deletable": true,
    "editable": true
   },
   "outputs": [],
   "source": [
    "out_cnn = lasagne.layers.get_output(network_cnn)\n",
    "ce_cnn = lasagne.objectives.categorical_crossentropy(out_cnn, class_var)\n",
    "ace_cnn = lasagne.objectives.aggregate(ce_cnn)\n",
    "params_cnn = lasagne.layers.get_all_params(network_cnn, trainable=True)\n",
    "updates_cnn = lasagne.updates.nesterov_momentum(ace_cnn, params_cnn, learning_rate=0.1, momentum=0.9)\n",
    "train_fn_cnn = theano.function([input_var, class_var], ace_cnn, updates=updates_cnn)\n",
    "\n",
    "cnn = lasagne.layers.get_output(network_cnn, deterministic=True)\n",
    "cnn_ce = lasagne.objectives.categorical_crossentropy(cnn, class_var)\n",
    "cnn_ace = lasagne.objectives.aggregate(cnn_ce)\n",
    "cnn_acc = T.mean( T.eq( T.argmax( cnn, axis=1 ), class_var ), dtype=theano.config.floatX )\n",
    "eval_cnn = theano.function([input_var, class_var], [cnn_ace, cnn_acc] )"
   ]
  },
  {
   "cell_type": "code",
   "execution_count": 14,
   "metadata": {
    "collapsed": false,
    "deletable": true,
    "editable": true
   },
   "outputs": [
    {
     "name": "stdout",
     "output_type": "stream",
     "text": [
      "0.219732537866\n",
      "0.204012431204\n",
      "0.195550054312\n",
      "0.187306694686\n",
      "0.195568218827\n",
      "0.196663849056\n",
      "0.192231742399\n",
      "0.199438659474\n",
      "0.195519602961\n",
      "0.189558626711\n",
      "0.188028964129\n",
      "0.183866693328\n",
      "0.181874879278\n",
      "0.184352130762\n",
      "0.184060737491\n",
      "0.182929250412\n",
      "0.181344936876\n",
      "0.183879615532\n",
      "0.18255701818\n",
      "0.181983741373\n",
      "0.184115691554\n",
      "0.183506085114\n",
      "0.18238155803\n",
      "0.182760215054\n",
      "0.180337018967\n",
      "0.179077649346\n",
      "0.177898709421\n",
      "0.177232967424\n",
      "0.178534959925\n",
      "0.17891043971\n",
      "0.180125906102\n",
      "0.180712245405\n",
      "0.180683350924\n",
      "0.18146463133\n",
      "0.179519010442\n",
      "0.179059215718\n",
      "0.17973024378\n",
      "0.178584348999\n",
      "0.178779516083\n",
      "0.179051552713\n",
      "0.178308927431\n",
      "0.178203150275\n",
      "0.17770623433\n",
      "0.178243392232\n",
      "0.177978550726\n",
      "0.17722962246\n",
      "0.176899514934\n",
      "0.17667624106\n",
      "0.177259639514\n",
      "0.177820411026\n",
      "0.177617434777\n",
      "0.177139751613\n",
      "0.176502264614\n",
      "0.176871438545\n",
      "0.17639128918\n",
      "0.176377311615\n",
      "0.175709353727\n",
      "0.175382286824\n",
      "0.175275345222\n",
      "0.17407467713\n",
      "0.173758052412\n",
      "0.173094330536\n",
      "0.173443572152\n",
      "0.173081592191\n",
      "0.172326377378\n",
      "0.172083426267\n",
      "0.171697581771\n",
      "0.170930145199\n",
      "0.171119158467\n",
      "0.17120025903\n",
      "0.171635624808\n",
      "0.171415968074\n",
      "0.17093787475\n",
      "0.171966008641\n",
      "0.171544755697\n",
      "0.170908661951\n",
      "0.17149533999\n",
      "0.171570664511\n",
      "0.171937496885\n",
      "0.17217479283\n",
      "0.172550420058\n",
      "0.172757617675\n",
      "0.172640467534\n",
      "0.172135932548\n",
      "0.172212178655\n",
      "0.17216421863\n",
      "0.171811369558\n",
      "0.171736758287\n",
      "0.171496721382\n",
      "0.171184695181\n",
      "0.171112118268\n",
      "0.170934320225\n",
      "0.171421787672\n",
      "0.170637625329\n",
      "0.17027285946\n",
      "0.169745512229\n",
      "0.169488789264\n",
      "0.169057889937\n",
      "0.169167844409\n",
      "0.16890034087\n",
      "0.169031057691\n",
      "0.168707845039\n",
      "0.168152342722\n",
      "0.168289978487\n",
      "0.168001753234\n",
      "0.168331271775\n",
      "0.167817726453\n",
      "0.16785308015\n",
      "0.16806100514\n",
      "0.167988818207\n",
      "0.167783789135\n",
      "0.167704204363\n",
      "0.16829172924\n",
      "0.167751419962\n",
      "0.168130659409\n",
      "0.168376809179\n",
      "0.168152683056\n",
      "0.168077129808\n",
      "0.167952932605\n",
      "0.167807798336\n",
      "Ace : 0.0592968197539\n",
      "ACC:\t\t98.20 %\n",
      "time: 1.1186859607696533 s\n"
     ]
    }
   ],
   "source": [
    "train_ace = 0\n",
    "train_batches = 0\n",
    "start_time = time.time()\n",
    "for batch in iterate_minibatches(X_train, y_train, 500, shuffle=True):\n",
    "    inputs, classes = batch\n",
    "    train_ace += train_fn_cnn( inputs, classes )\n",
    "    train_batches += 1\n",
    "    print(train_ace / train_batches)\n",
    "test_ace = 0\n",
    "test_acc = 0\n",
    "test_batches = 0\n",
    "for batch in iterate_minibatches(X_test, y_test, 500, shuffle=True):\n",
    "    inputs, classes = batch\n",
    "    ace, acc = eval_cnn( inputs, classes )\n",
    "    test_ace += ace\n",
    "    test_acc += acc\n",
    "    test_batches += 1\n",
    "print(\"Ace :\", test_ace / test_batches)\n",
    "print(\"ACC:\\t\\t{:.2f} %\".format( 100*(test_acc / test_batches) ) )\n",
    "#print(\"Acc :\", test_acc / test_batches)\n",
    "print(\"time:\", time.time() - start_time , \"s\")"
   ]
  },
  {
   "cell_type": "code",
   "execution_count": 12,
   "metadata": {
    "collapsed": false,
    "deletable": true,
    "editable": true
   },
   "outputs": [
    {
     "name": "stdout",
     "output_type": "stream",
     "text": [
      "                                                   0\n",
      "0  [[[[ 0.16502364  0.14663561 -0.08001634 -0.104...\n",
      "1  [-0.0639891, 0.0929369, -0.0500132, -0.196512,...\n",
      "2  [[[[-0.06532975 -0.12259582 -0.00795136  0.015...\n",
      "3  [-0.154948, -0.0746034, 0.0176097, -0.0646097,...\n",
      "4  [[0.0605964, 0.0554546, 0.0541457, -0.0484306,...\n",
      "5  [-0.119447, 0.394134, -0.0713351, -0.03419, -0...\n"
     ]
    }
   ],
   "source": [
    "nn_cnn = lasagne.layers.get_all_param_values(network_cnn)\n",
    "df_nn_cnn = pd.DataFrame(nn_cnn)\n",
    "print(df_nn_cnn)"
   ]
  },
  {
   "cell_type": "code",
   "execution_count": 13,
   "metadata": {
    "collapsed": false,
    "deletable": true,
    "editable": true,
    "scrolled": true
   },
   "outputs": [
    {
     "data": {
      "image/png": "[encoded data removed]",
      "text/plain": [
       "<matplotlib.figure.Figure at 0x7f1218e81c50>"
      ]
     },
     "metadata": {},
     "output_type": "display_data"
    }
   ],
   "source": [
    "nbRow = 2\n",
    "fig, axes = plt.subplots(nrows=nbRow, ncols=16)\n",
    "l1 = df_nn_cnn[0][0]\n",
    "l1 = l1.max(axis=1)\n",
    "nbCol = l1.shape[0]\n",
    "for c in range(nbCol):\n",
    "    f = l1[c]\n",
    "    axes[0, c].imshow(f)\n",
    "    axes[0, c].set_axis_off()\n",
    "l2 = df_nn_cnn[0][2]\n",
    "l2 = l2.max(axis=1)\n",
    "nbCol = l2.shape[0]\n",
    "for c in range(nbCol):\n",
    "    f = l2[c]\n",
    "    axes[1, c].imshow(f)\n",
    "    axes[1, c].set_axis_off()\n",
    "#plt.gray()\n",
    "plt.axis('off')\n",
    "plt.show()"
   ]
  },
  {
   "cell_type": "code",
   "execution_count": 119,
   "metadata": {
    "collapsed": false,
    "deletable": true,
    "editable": true
   },
   "outputs": [],
   "source": [
    "l_in = lasagne.layers.InputLayer(shape=(None, 1, 28, 28), input_var=input_var)\n",
    "# print(lasagne.layers.get_output_shape(l_in))\n",
    "l_c1 = lasagne.layers.Conv2DLayer(l_in, num_filters=16, filter_size=(5,5), nonlinearity=lasagne.nonlinearities.rectify, W=lasagne.init.GlorotNormal() )\n",
    "l_c1p = lasagne.layers.MaxPool2DLayer(l_c1, pool_size=(2,2) )\n",
    "l_c2 = lasagne.layers.Conv2DLayer( l_c1p, num_filters=16, filter_size=(5,5), nonlinearity=lasagne.nonlinearities.rectify , W=lasagne.init.GlorotNormal() )\n",
    "l_c2p = lasagne.layers.MaxPool2DLayer(l_c2, pool_size=(2,2) )\n",
    "# l_cclass = lasagne.layers.FlattenLayer(l_cclass, outdim=2, )\n",
    "l_out = lasagne.layers.DenseLayer(lasagne.layers.dropout(l_c2p, p=0.5), num_units=10, nonlinearity=lasagne.nonlinearities.softmax)\n",
    "\n",
    "lasagne.layers.set_all_param_values( l_out, lasagne.layers.get_all_param_values(network_cnn) )"
   ]
  },
  {
   "cell_type": "code",
   "execution_count": null,
   "metadata": {
    "collapsed": true,
    "deletable": true,
    "editable": true
   },
   "outputs": [],
   "source": []
  }
 ],
 "metadata": {
  "kernelspec": {
   "display_name": "Python 3",
   "language": "python",
   "name": "python3"
  },
  "language_info": {
   "codemirror_mode": {
    "name": "ipython",
    "version": 3
   },
   "file_extension": ".py",
   "mimetype": "text/x-python",
   "name": "python",
   "nbconvert_exporter": "python",
   "pygments_lexer": "ipython3",
   "version": "3.5.2"
  }
 },
 "nbformat": 4,
 "nbformat_minor": 2
}
