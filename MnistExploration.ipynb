{
 "cells": [
  {
   "cell_type": "code",
   "execution_count": 17,
   "metadata": {
    "collapsed": true
   },
   "outputs": [],
   "source": [
    "import sys, getopt\n",
    "\n",
    "import argparse\n",
    "\n",
    "import sys\n",
    "import os\n",
    "import time\n",
    "\n",
    "import numpy as np\n",
    "\n",
    "import pandas as pd\n",
    "\n",
    "import matplotlib.pyplot as plt\n",
    "import matplotlib.image as mpimg\n",
    "import matplotlib.pyplot  as pyplot\n",
    "import gzip\n",
    "\n",
    "import theano\n",
    "import theano.tensor as T\n",
    "\n",
    "import lasagne\n",
    "import nolearn"
   ]
  },
  {
   "cell_type": "code",
   "execution_count": 16,
   "metadata": {
    "collapsed": true
   },
   "outputs": [],
   "source": [
    "def load_dataset_mnist():\n",
    "\t# We first define a download function, supporting both Python 2 and 3.\n",
    "\tif sys.version_info[0] == 2:\n",
    "\t\tfrom urllib import urlretrieve\n",
    "\telse:\n",
    "\t\tfrom urllib.request import urlretrieve\n",
    "\n",
    "\tdef download(filename, source='http://yann.lecun.com/exdb/mnist/'):\n",
    "\t\tprint(\"Downloading %s\" % filename)\n",
    "\t\turlretrieve(source + filename, filename)\n",
    "\n",
    "\t# We then define functions for loading MNIST images and labels.\n",
    "\t# For convenience, they also download the requested files if needed.\n",
    "\timport gzip\n",
    "\n",
    "\tdef load_mnist_images(filename):\n",
    "\t\tif not os.path.exists(filename):\n",
    "\t\t\tdownload(filename)\n",
    "\t\t# Read the inputs in Yann LeCun's binary format.\n",
    "\t\twith gzip.open(filename, 'rb') as f:\n",
    "\t\t\tdata = np.frombuffer(f.read(), np.uint8, offset=16)\n",
    "\t\t# The inputs are vectors now, we reshape them to monochrome 2D images,\n",
    "\t\t# following the shape convention: (examples, channels, rows, columns)\n",
    "\t\tdata = data.reshape(-1, 1, 28, 28)\n",
    "\t\t# The inputs come as bytes, we convert them to float32 in range [0,1].\n",
    "\t\t# (Actually to range [0, 255/256], for compatibility to the version\n",
    "\t\t# provided at http://deeplearning.net/data/mnist/mnist.pkl.gz.)\n",
    "\t\treturn (data / np.float32(256))\n",
    "# \t\treturn 1-(2*(data / np.float32(256)))\n",
    "\n",
    "\tdef load_mnist_labels(filename):\n",
    "\t\tif not os.path.exists(filename):\n",
    "\t\t\tdownload(filename)\n",
    "\t\t# Read the labels in Yann LeCun's binary format.\n",
    "\t\twith gzip.open(filename, 'rb') as f:\n",
    "\t\t\tdata = np.frombuffer(f.read(), np.uint8, offset=8)\n",
    "\t\t# The labels are vectors of integers now, that's exactly what we want.\n",
    "\t\treturn data\n",
    "\n",
    "\t# We can now download and read the training and test set images and labels.\n",
    "\tX_train = load_mnist_images('train-images-idx3-ubyte.gz')\n",
    "\ty_train = load_mnist_labels('train-labels-idx1-ubyte.gz')\n",
    "\tX_test = load_mnist_images('t10k-images-idx3-ubyte.gz')\n",
    "\ty_test = load_mnist_labels('t10k-labels-idx1-ubyte.gz')\n",
    "\n",
    "\t# We reserve the last 10000 training examples for validation.\n",
    "# \tX_train, X_val = X_train[:-10000], X_train[-10000:]\n",
    "# \ty_train, y_val = y_train[:-10000], y_train[-10000:]\n",
    "\t\n",
    "\t\n",
    "\t# We just return all the arrays in order, as expected in main().\n",
    "\t# (It doesn't matter how we do this as long as we can read them again.)\n",
    "\treturn X_train, y_train, X_test, y_test"
   ]
  },
  {
   "cell_type": "code",
   "execution_count": 103,
   "metadata": {
    "collapsed": true
   },
   "outputs": [],
   "source": [
    "def build_cnn(input_var=None):\n",
    "\tl_in = lasagne.layers.InputLayer(shape=(None, 1, 28, 28), input_var=input_var)\n",
    "\t# print(lasagne.layers.get_output_shape(l_in))\n",
    "\tl_c1 = lasagne.layers.Conv2DLayer(l_in, num_filters=16, filter_size=(5,5), nonlinearity=lasagne.nonlinearities.rectify, W=lasagne.init.GlorotNormal() )\n",
    "\tl_c1p = lasagne.layers.MaxPool2DLayer(l_c1, pool_size=(2,2) )\n",
    "\tl_c2 = lasagne.layers.Conv2DLayer( l_c1p, num_filters=16, filter_size=(5,5), nonlinearity=lasagne.nonlinearities.rectify , W=lasagne.init.GlorotNormal() )\n",
    "\tl_c2p = lasagne.layers.MaxPool2DLayer(l_c2, pool_size=(2,2) )\n",
    "\t# l_cclass = lasagne.layers.FlattenLayer(l_cclass, outdim=2, )\n",
    "\tl_outclass = lasagne.layers.DenseLayer(lasagne.layers.dropout(l_c2p, p=0.5), num_units=10, nonlinearity=lasagne.nonlinearities.softmax)\n",
    "\t\n",
    "\t# print(\"output class:\", lasagne.layers.get_output_shape(l_cclass))\n",
    "\t\n",
    "\t# print(\"output reconstruction:\",lasagne.layers.get_output_shape(l_out))\n",
    "\treturn l_outclass"
   ]
  },
  {
   "cell_type": "code",
   "execution_count": 104,
   "metadata": {
    "collapsed": true
   },
   "outputs": [],
   "source": [
    "def iterate_minibatches(inputs, targets, batchsize, shuffle=False):\n",
    "\tassert len(inputs) == len(targets)\n",
    "\tif shuffle:\n",
    "\t\tindices = np.arange(len(inputs))\n",
    "\t\tnp.random.shuffle(indices)\n",
    "\tfor start_idx in range(0, len(inputs) - batchsize + 1, batchsize):\n",
    "\t\tif shuffle:\n",
    "\t\t\texcerpt = indices[start_idx:start_idx + batchsize]\n",
    "\t\telse:\n",
    "\t\t\texcerpt = slice(start_idx, start_idx + batchsize)\n",
    "\t\tyield inputs[excerpt], targets[excerpt]\n"
   ]
  },
  {
   "cell_type": "code",
   "execution_count": 105,
   "metadata": {
    "collapsed": false
   },
   "outputs": [],
   "source": [
    "X_train, y_train, X_test, y_test = load_dataset_mnist()"
   ]
  },
  {
   "cell_type": "code",
   "execution_count": 98,
   "metadata": {
    "collapsed": true
   },
   "outputs": [],
   "source": [
    "Y_train = np.repeat(y_train,28*28).reshape((len(y_train), 1, 28, 28))\n",
    "Y_test = np.repeat(y_test,28*28).reshape((len(y_test), 1, 28, 28))"
   ]
  },
  {
   "cell_type": "code",
   "execution_count": 100,
   "metadata": {
    "collapsed": false,
    "scrolled": true
   },
   "outputs": [
    {
     "data": {
      "image/png": "[encoded data removed]",
      "text/plain": [
       "<matplotlib.figure.Figure at 0x7f731c140978>"
      ]
     },
     "metadata": {},
     "output_type": "display_data"
    }
   ],
   "source": [
    "plt.imshow(X_train[np.random.randint(0, len(X_train)), 0, :,:])\n",
    "plt.gray()\n",
    "plt.show()"
   ]
  },
  {
   "cell_type": "code",
   "execution_count": 106,
   "metadata": {
    "collapsed": false
   },
   "outputs": [
    {
     "name": "stdout",
     "output_type": "stream",
     "text": [
      "Set network\n"
     ]
    }
   ],
   "source": [
    "num_epochs=1\n",
    "prop_valid=20\n",
    "size_minibatch = 100 \n",
    "\n",
    "print(\"Set network\")\n",
    "input_var = T.tensor4('inputs')\n",
    "target_var = T.tensor4('targets')\n",
    "class_var = T.ivector('classes')\n",
    "seg_var = T.tensor4('segmentations')\n",
    "network_cnn = build_cnn(input_var)\n"
   ]
  },
  {
   "cell_type": "code",
   "execution_count": 107,
   "metadata": {
    "collapsed": true
   },
   "outputs": [],
   "source": [
    "out_cnn = lasagne.layers.get_output(network_cnn)\n",
    "ce_cnn = lasagne.objectives.categorical_crossentropy(out_cnn, class_var)\n",
    "ace_cnn = lasagne.objectives.aggregate(ce_cnn)\n",
    "params_cnn = lasagne.layers.get_all_params(network_cnn, trainable=True)\n",
    "updates_cnn = lasagne.updates.nesterov_momentum(ace_cnn, params_cnn, learning_rate=0.1, momentum=0.9)\n",
    "train_fn_cnn = theano.function([input_var, class_var], ace_cnn, updates=updates_cnn)\n",
    "\n",
    "cnn = lasagne.layers.get_output(network_cnn, deterministic=True)\n",
    "cnn_ce = lasagne.objectives.categorical_crossentropy(cnn, class_var)\n",
    "cnn_ace = lasagne.objectives.aggregate(cnn_ce)\n",
    "cnn_acc = T.mean( T.eq( T.argmax( cnn, axis=1 ), class_var ), dtype=theano.config.floatX )\n",
    "eval_cnn = theano.function([input_var, class_var], [cnn_ace, cnn_acc] )"
   ]
  },
  {
   "cell_type": "code",
   "execution_count": 109,
   "metadata": {
    "collapsed": false
   },
   "outputs": [
    {
     "name": "stdout",
     "output_type": "stream",
     "text": [
      "2.34345696971\n",
      "2.30813666405\n",
      "2.29207008295\n",
      "2.27842121291\n",
      "2.26266878916\n",
      "2.24362617\n",
      "2.21760684359\n",
      "2.18191403298\n",
      "2.14645467495\n",
      "2.09022002258\n",
      "2.03370839313\n",
      "2.04559919396\n",
      "2.03647417472\n",
      "1.99069067553\n",
      "1.93606377388\n",
      "1.88084663433\n",
      "1.82477809783\n",
      "1.76989466611\n",
      "1.71600214655\n",
      "1.66382513926\n",
      "1.61265259651\n",
      "1.57051578448\n",
      "1.53286723041\n",
      "1.49232520533\n",
      "1.4563657077\n",
      "1.42305361498\n",
      "1.39008511651\n",
      "1.3565178273\n",
      "1.32794316382\n",
      "1.30079813286\n",
      "1.27625448555\n",
      "1.24842740757\n",
      "1.22343366538\n",
      "1.19949070325\n",
      "1.17877090513\n",
      "1.15840515964\n",
      "1.13886097626\n",
      "1.12029967769\n",
      "1.10096142313\n",
      "1.08144623786\n",
      "1.06437914831\n",
      "1.04709718644\n",
      "1.03087603612\n",
      "1.01588359671\n",
      "1.00110240933\n",
      "0.986453257938\n",
      "0.97307284685\n",
      "0.959055351495\n",
      "0.947514844079\n",
      "0.934708814317\n",
      "0.92266443079\n",
      "0.912057393208\n",
      "0.900112637275\n",
      "0.889599279889\n",
      "0.879027153815\n",
      "0.869142616008\n",
      "0.858950651859\n",
      "0.848846883624\n",
      "0.837891746858\n",
      "0.828076076429\n",
      "0.819325136394\n",
      "0.809463201816\n",
      "0.800323288636\n",
      "0.792017903544\n",
      "0.784248055221\n",
      "0.775940993056\n",
      "0.769040981808\n",
      "0.763118353418\n",
      "0.755308457811\n",
      "0.74822319131\n",
      "0.741092287091\n",
      "0.734109702907\n",
      "0.727746542213\n",
      "0.72079539129\n",
      "0.714125141745\n",
      "0.70796738258\n",
      "0.70201998275\n",
      "0.696456190404\n",
      "0.690741047359\n",
      "0.685118445155\n",
      "0.679476075674\n",
      "0.674564156285\n",
      "0.668809975846\n",
      "0.663941896105\n",
      "0.658945594515\n",
      "0.653666261612\n",
      "0.648242271498\n",
      "0.643399996972\n",
      "0.63835889917\n",
      "0.633764356493\n",
      "0.629171976981\n",
      "0.624463083327\n",
      "0.619679614218\n",
      "0.615200472944\n",
      "0.610770472275\n",
      "0.607483365598\n",
      "0.603331404921\n",
      "0.599154257752\n",
      "0.595249088636\n",
      "0.590990818012\n",
      "0.587290491596\n",
      "0.583570677381\n",
      "0.579806845977\n",
      "0.576006129875\n",
      "0.571883303182\n",
      "0.568491932154\n",
      "0.564782991822\n",
      "0.561551807563\n",
      "0.558263022209\n",
      "0.554940745176\n",
      "0.551915012021\n",
      "0.54897811085\n",
      "0.545644301981\n",
      "0.542208317503\n",
      "0.538937720765\n",
      "0.536242101267\n",
      "0.533246782508\n",
      "0.530478170266\n",
      "0.527814036338\n",
      "0.524461543603\n",
      "Ace : 0.0747902927987\n",
      "ACC:\t\t97.69 %\n"
     ]
    },
    {
     "ename": "NameError",
     "evalue": "name 'overall_time' is not defined",
     "output_type": "error",
     "traceback": [
      "\u001b[0;31m---------------------------------------------------------------------------\u001b[0m",
      "\u001b[0;31mNameError\u001b[0m                                 Traceback (most recent call last)",
      "\u001b[0;32m<ipython-input-109-b3a427647856>\u001b[0m in \u001b[0;36m<module>\u001b[0;34m()\u001b[0m\n\u001b[1;32m     19\u001b[0m \u001b[0mprint\u001b[0m\u001b[0;34m(\u001b[0m\u001b[0;34m\"ACC:\\t\\t{:.2f} %\"\u001b[0m\u001b[0;34m.\u001b[0m\u001b[0mformat\u001b[0m\u001b[0;34m(\u001b[0m \u001b[0;36m100\u001b[0m\u001b[0;34m*\u001b[0m\u001b[0;34m(\u001b[0m\u001b[0mtest_acc\u001b[0m \u001b[0;34m/\u001b[0m \u001b[0mtest_batches\u001b[0m\u001b[0;34m)\u001b[0m \u001b[0;34m)\u001b[0m \u001b[0;34m)\u001b[0m\u001b[0;34m\u001b[0m\u001b[0m\n\u001b[1;32m     20\u001b[0m \u001b[0;31m#print(\"Acc :\", test_acc / test_batches)\u001b[0m\u001b[0;34m\u001b[0m\u001b[0;34m\u001b[0m\u001b[0m\n\u001b[0;32m---> 21\u001b[0;31m \u001b[0mprint\u001b[0m\u001b[0;34m(\u001b[0m\u001b[0;34m\"time:\"\u001b[0m\u001b[0;34m,\u001b[0m \u001b[0mtime\u001b[0m\u001b[0;34m.\u001b[0m\u001b[0mtime\u001b[0m\u001b[0;34m(\u001b[0m\u001b[0;34m)\u001b[0m \u001b[0;34m-\u001b[0m \u001b[0moverall_time\u001b[0m \u001b[0;34m,\u001b[0m \u001b[0;34m\"s\"\u001b[0m\u001b[0;34m)\u001b[0m\u001b[0;34m\u001b[0m\u001b[0m\n\u001b[0m",
      "\u001b[0;31mNameError\u001b[0m: name 'overall_time' is not defined"
     ]
    }
   ],
   "source": [
    "train_ace = 0\n",
    "train_batches = 0\n",
    "start_time = time.time()\n",
    "for batch in iterate_minibatches(X_train, y_train, 500, shuffle=True):\n",
    "    inputs, classes = batch\n",
    "    train_ace += train_fn_cnn( inputs, classes )\n",
    "    train_batches += 1\n",
    "    print(train_ace / train_batches)\n",
    "test_ace = 0\n",
    "test_acc = 0\n",
    "test_batches = 0\n",
    "for batch in iterate_minibatches(X_test, y_test, 500, shuffle=True):\n",
    "    inputs, classes = batch\n",
    "    ace, acc = eval_cnn( inputs, classes )\n",
    "    test_ace += ace\n",
    "    test_acc += acc\n",
    "    test_batches += 1\n",
    "print(\"Ace :\", test_ace / test_batches)\n",
    "print(\"ACC:\\t\\t{:.2f} %\".format( 100*(test_acc / test_batches) ) )\n",
    "#print(\"Acc :\", test_acc / test_batches)\n",
    "print(\"time:\", time.time() - start_time , \"s\")"
   ]
  },
  {
   "cell_type": "code",
   "execution_count": 110,
   "metadata": {
    "collapsed": false
   },
   "outputs": [
    {
     "name": "stdout",
     "output_type": "stream",
     "text": [
      "                                                   0\n",
      "0  [[[[ 0.07283056  0.27840081  0.38866329  0.079...\n",
      "1  [-0.382537352598, -0.0132402678698, 0.01060836...\n",
      "2  [[[[-0.07562348 -0.10541602 -0.03775927  0.185...\n",
      "3  [-0.0647742297855, 0.0617553937534, -0.1252164...\n",
      "4  [[-0.0251504709189, -0.161661779282, 0.0178769...\n",
      "5  [0.0156596528897, -0.0479010664277, -0.0839906...\n"
     ]
    }
   ],
   "source": [
    "nn_cnn = lasagne.layers.get_all_param_values(network_cnn)\n",
    "df_nn_cnn = pd.DataFrame(nn_cnn)\n",
    "print(df_nn_cnn)"
   ]
  },
  {
   "cell_type": "code",
   "execution_count": 47,
   "metadata": {
    "collapsed": false
   },
   "outputs": [],
   "source": []
  },
  {
   "cell_type": "code",
   "execution_count": 118,
   "metadata": {
    "collapsed": false,
    "scrolled": true
   },
   "outputs": [
    {
     "data": {
      "image/png": "[encoded data removed]",
      "text/plain": [
       "<matplotlib.figure.Figure at 0x7f732fb0c9e8>"
      ]
     },
     "metadata": {},
     "output_type": "display_data"
    }
   ],
   "source": [
    "nbRow = 2\n",
    "fig, axes = plt.subplots(nrows=nbRow, ncols=16)\n",
    "l1 = df_nn_cnn[0][0]\n",
    "l1 = l1.max(axis=1)\n",
    "nbCol = l1.shape[0]\n",
    "for c in range(nbCol):\n",
    "    f = l1[c]\n",
    "    axes[0, c].imshow(f)\n",
    "    axes[0, c].set_axis_off()\n",
    "l2 = df_nn_cnn[0][2]\n",
    "l2 = l2.max(axis=1)\n",
    "nbCol = l2.shape[0]\n",
    "for c in range(nbCol):\n",
    "    f = l2[c]\n",
    "    axes[1, c].imshow(f)\n",
    "    axes[1, c].set_axis_off()\n",
    "#plt.gray()\n",
    "plt.axis('off')\n",
    "plt.show()"
   ]
  },
  {
   "cell_type": "code",
   "execution_count": 119,
   "metadata": {
    "collapsed": false
   },
   "outputs": [],
   "source": [
    "l_in = lasagne.layers.InputLayer(shape=(None, 1, 28, 28), input_var=input_var)\n",
    "# print(lasagne.layers.get_output_shape(l_in))\n",
    "l_c1 = lasagne.layers.Conv2DLayer(l_in, num_filters=16, filter_size=(5,5), nonlinearity=lasagne.nonlinearities.rectify, W=lasagne.init.GlorotNormal() )\n",
    "l_c1p = lasagne.layers.MaxPool2DLayer(l_c1, pool_size=(2,2) )\n",
    "l_c2 = lasagne.layers.Conv2DLayer( l_c1p, num_filters=16, filter_size=(5,5), nonlinearity=lasagne.nonlinearities.rectify , W=lasagne.init.GlorotNormal() )\n",
    "l_c2p = lasagne.layers.MaxPool2DLayer(l_c2, pool_size=(2,2) )\n",
    "# l_cclass = lasagne.layers.FlattenLayer(l_cclass, outdim=2, )\n",
    "l_out = lasagne.layers.DenseLayer(lasagne.layers.dropout(l_c2p, p=0.5), num_units=10, nonlinearity=lasagne.nonlinearities.softmax)\n",
    "\n",
    "lasagne.layers.set_all_param_values( l_out, lasagne.layers.get_all_param_values(network_cnn) )"
   ]
  },
  {
   "cell_type": "code",
   "execution_count": null,
   "metadata": {
    "collapsed": true
   },
   "outputs": [],
   "source": []
  }
 ],
 "metadata": {
  "kernelspec": {
   "display_name": "Python 3",
   "language": "python",
   "name": "python3"
  },
  "language_info": {
   "codemirror_mode": {
    "name": "ipython",
    "version": 3
   },
   "file_extension": ".py",
   "mimetype": "text/x-python",
   "name": "python",
   "nbconvert_exporter": "python",
   "pygments_lexer": "ipython3",
   "version": "3.5.2+"
  }
 },
 "nbformat": 4,
 "nbformat_minor": 2
}
